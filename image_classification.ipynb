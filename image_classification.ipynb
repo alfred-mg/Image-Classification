import os
import gdown
import torch
import os
import numpy as np
from tensorflow import keras
import tensorflow as tf
from tensorflow.keras.preprocessing.image import ImageDataGenerator
from tensorflow.keras.optimizers import Adam
from sklearn.metrics import classification_report, confusion_matrix
from tensorflow.keras.utils import to_categorical
from tensorflow.keras.models import Model, Sequential
from tensorflow.keras.layers import Input, Dense, Conv2D, SeparableConv2D, MaxPooling2D, BatchNormalization, Activation, GlobalAveragePooling2D, Dropout, add

import matplotlib.pyplot as plt
from sklearn.metrics import confusion_matrix, ConfusionMatrixDisplay
